{
  "nbformat": 4,
  "nbformat_minor": 0,
  "metadata": {
    "colab": {
      "name": "Building Financial Article Category Classifier.ipynb",
      "provenance": [],
      "collapsed_sections": [],
      "authorship_tag": "ABX9TyO4i+uwshWvpuBGPoyxpldz",
      "include_colab_link": true
    },
    "kernelspec": {
      "name": "python3",
      "display_name": "Python 3"
    },
    "language_info": {
      "name": "python"
    }
  },
  "cells": [
    {
      "cell_type": "markdown",
      "metadata": {
        "id": "view-in-github",
        "colab_type": "text"
      },
      "source": [
        "<a href=\"https://colab.research.google.com/github/OldmanHades/FinancialArticleAsistance/blob/main/Building_Financial_Article_Category_Classifier.ipynb\" target=\"_parent\"><img src=\"https://colab.research.google.com/assets/colab-badge.svg\" alt=\"Open In Colab\"/></a>"
      ]
    },
    {
      "cell_type": "code",
      "execution_count": null,
      "metadata": {
        "id": "mdAxH-vaQIwd"
      },
      "outputs": [],
      "source": [
        "from sklearn.feature_extraction.text import TfidfVectorizer\n",
        "from sklearn.ensemble import RandomForestClassifier\n",
        "from sklearn import preprocessing\n",
        "import pandas as pd\n",
        "import json\n",
        "import pickle"
      ]
    },
    {
      "cell_type": "markdown",
      "source": [
        "Add the Training Data"
      ],
      "metadata": {
        "id": "2zOI30TInnGA"
      }
    },
    {
      "cell_type": "code",
      "source": [
        "financial_corpus_df = pd.read_csv('training_data.csv')"
      ],
      "metadata": {
        "id": "pJOoBVKGVGIl"
      },
      "execution_count": null,
      "outputs": []
    },
    {
      "cell_type": "code",
      "source": [
        "financial_corpus_df"
      ],
      "metadata": {
        "id": "BIQdugfiW-Bc"
      },
      "execution_count": null,
      "outputs": []
    },
    {
      "cell_type": "code",
      "source": [
        "financial_corpus_df['category'].unique()"
      ],
      "metadata": {
        "id": "hLVY_piLZkbH"
      },
      "execution_count": null,
      "outputs": []
    },
    {
      "cell_type": "markdown",
      "source": [
        "Put in the Label Encoder"
      ],
      "metadata": {
        "id": "ys1bCJA_n3ke"
      }
    },
    {
      "cell_type": "code",
      "source": [
        "label_encoder = preprocessing.LabelEncoder()\n",
        "label_encoder.fit(financial_corpus_df['category'])\n",
        "financial_corpus_df['label'] = label_encoder.transform(financial_corpus_df['category'])"
      ],
      "metadata": {
        "id": "9WEGSc0kaAZR"
      },
      "execution_count": null,
      "outputs": []
    },
    {
      "cell_type": "code",
      "source": [
        "financial_corpus_df['label'].unique()"
      ],
      "metadata": {
        "id": "mb7KbZ9yazyc"
      },
      "execution_count": null,
      "outputs": []
    },
    {
      "cell_type": "code",
      "source": [
        "financial_corpus_df"
      ],
      "metadata": {
        "id": "EEVo8l0Oa8uA"
      },
      "execution_count": null,
      "outputs": []
    },
    {
      "cell_type": "code",
      "source": [
        "vectorizer = TfidfVectorizer(stop_words = 'english', max_features=1000)"
      ],
      "metadata": {
        "id": "zccdgYRGbHOA"
      },
      "execution_count": null,
      "outputs": []
    },
    {
      "cell_type": "code",
      "source": [
        "x = financial_corpus_df['body']\n",
        "y = financial_corpus_df['label']"
      ],
      "metadata": {
        "id": "gwk9C0afb3IQ"
      },
      "execution_count": null,
      "outputs": []
    },
    {
      "cell_type": "code",
      "source": [
        "vectorized_x = vectorizer.fit_transform(x)"
      ],
      "metadata": {
        "id": "s5mj10lWcFx4"
      },
      "execution_count": null,
      "outputs": []
    },
    {
      "cell_type": "markdown",
      "source": [
        "Use the Random Forest Classifier"
      ],
      "metadata": {
        "id": "8dxiuvPAoCs7"
      }
    },
    {
      "cell_type": "code",
      "source": [
        "rf_clf = RandomForestClassifier()"
      ],
      "metadata": {
        "id": "heaWW_SicSpr"
      },
      "execution_count": null,
      "outputs": []
    },
    {
      "cell_type": "code",
      "source": [
        "rf_clf.fit(vectorized_x, y)"
      ],
      "metadata": {
        "id": "hE5eQjarcb7n"
      },
      "execution_count": null,
      "outputs": []
    },
    {
      "cell_type": "markdown",
      "source": [
        "Finally here we are using Pickle"
      ],
      "metadata": {
        "id": "ZIq3y44yoI1x"
      }
    },
    {
      "cell_type": "code",
      "source": [
        "pickle.dump(rf_clf, open('financial_text_classifier.pkl', 'wb'))\n",
        "pickle.dump(vectorizer, open('financial_text_vectorizer.pkl', 'wb'))\n",
        "pickle.dump(label_encoder, open('financial_text_encoder.pkl', 'wb'))"
      ],
      "metadata": {
        "id": "AcMfW3_TcoNJ"
      },
      "execution_count": null,
      "outputs": []
    },
    {
      "cell_type": "code",
      "source": [
        ""
      ],
      "metadata": {
        "id": "NtcCiq9EdmNB"
      },
      "execution_count": null,
      "outputs": []
    }
  ]
}